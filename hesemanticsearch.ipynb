{
  "cells": [
    {
      "cell_type": "markdown",
      "metadata": {
        "id": "view-in-github",
        "colab_type": "text"
      },
      "source": [
        "<a href=\"https://colab.research.google.com/github/birajchoudhury/birajchoudhury.github.io/blob/master/hesemanticsearch.ipynb\" target=\"_parent\"><img src=\"https://colab.research.google.com/assets/colab-badge.svg\" alt=\"Open In Colab\"/></a>"
      ]
    },
    {
      "cell_type": "markdown",
      "source": [
        "# Encryption Semantic Search using Homomorphic Encryption"
      ],
      "metadata": {
        "id": "cQl3iX8G_mR6"
      },
      "id": "cQl3iX8G_mR6"
    },
    {
      "cell_type": "markdown",
      "source": [
        "This is a tutorial for implementing encrypted semantic search using Homomorphic Encryption."
      ],
      "metadata": {
        "id": "skhTwG6R_2S6"
      },
      "id": "skhTwG6R_2S6"
    },
    {
      "cell_type": "markdown",
      "source": [
        "# Install requirements\n",
        "\n"
      ],
      "metadata": {
        "id": "N4mop3KcxCDS"
      },
      "id": "N4mop3KcxCDS"
    },
    {
      "cell_type": "code",
      "source": [
        "pip install tenseal sentence_transformers"
      ],
      "metadata": {
        "id": "UqEdztlV8KvH"
      },
      "id": "UqEdztlV8KvH",
      "execution_count": null,
      "outputs": []
    },
    {
      "cell_type": "code",
      "execution_count": null,
      "id": "blank-finding",
      "metadata": {
        "id": "blank-finding"
      },
      "outputs": [],
      "source": [
        "import tenseal as ts # pip install tenseal\n",
        "from sentence_transformers import SentenceTransformer"
      ]
    },
    {
      "cell_type": "markdown",
      "source": [
        "#Setup Embedding Model"
      ],
      "metadata": {
        "id": "GddG4YDXxWFG"
      },
      "id": "GddG4YDXxWFG"
    },
    {
      "cell_type": "code",
      "source": [
        "model = SentenceTransformer('all-MiniLM-L6-v2')"
      ],
      "metadata": {
        "id": "D06VWKb9R05H",
        "colab": {
          "base_uri": "https://localhost:8080/",
          "height": 141
        },
        "outputId": "c36888b5-9432-446f-c079-d6b704a2191b"
      },
      "id": "D06VWKb9R05H",
      "execution_count": null,
      "outputs": [
        {
          "output_type": "error",
          "ename": "NameError",
          "evalue": "name 'SentenceTransformer' is not defined",
          "traceback": [
            "\u001b[0;31m---------------------------------------------------------------------------\u001b[0m",
            "\u001b[0;31mNameError\u001b[0m                                 Traceback (most recent call last)",
            "\u001b[0;32m<ipython-input-1-ff89c08aee86>\u001b[0m in \u001b[0;36m<cell line: 1>\u001b[0;34m()\u001b[0m\n\u001b[0;32m----> 1\u001b[0;31m \u001b[0mmodel\u001b[0m \u001b[0;34m=\u001b[0m \u001b[0mSentenceTransformer\u001b[0m\u001b[0;34m(\u001b[0m\u001b[0;34m'all-MiniLM-L6-v2'\u001b[0m\u001b[0;34m)\u001b[0m\u001b[0;34m\u001b[0m\u001b[0;34m\u001b[0m\u001b[0m\n\u001b[0m",
            "\u001b[0;31mNameError\u001b[0m: name 'SentenceTransformer' is not defined"
          ]
        }
      ]
    },
    {
      "cell_type": "code",
      "source": [
        "sentences = [\n",
        "    \"The quick brown fox jumps over the lazy dog.\",\n",
        "    \"I watched the sunset over the ocean.\",\n",
        "    \"Artificial intelligence is transforming industries.\",\n",
        "    \"The library was quiet and smelled like old books.\",\n",
        "    \"He dreamed of traveling to distant galaxies.\",\n",
        "    \"Innovation drives progress in the tech world.\",\n",
        "    \"The chef prepared a delicious meal for the guests.\",\n",
        "    \"Climate change poses a significant threat to global biodiversity.\",\n",
        "    \"The athlete trained rigorously for the upcoming marathon.\",\n",
        "    \"Music has the power to evoke deep emotional responses.\"\n",
        "]"
      ],
      "metadata": {
        "id": "fLkWnZHDXN4T"
      },
      "id": "fLkWnZHDXN4T",
      "execution_count": null,
      "outputs": []
    },
    {
      "cell_type": "markdown",
      "source": [
        "# Get and Store Sentence Embeddings"
      ],
      "metadata": {
        "id": "1k6mp9KtxeLb"
      },
      "id": "1k6mp9KtxeLb"
    },
    {
      "cell_type": "code",
      "source": [
        "embeddings = model.encode(sentences)\n",
        "print(embeddings)"
      ],
      "metadata": {
        "id": "WGIOo0L8ZWsw"
      },
      "id": "WGIOo0L8ZWsw",
      "execution_count": null,
      "outputs": []
    },
    {
      "cell_type": "markdown",
      "source": [
        "# Get Query Embedding"
      ],
      "metadata": {
        "id": "ElFs5JXGxb-g"
      },
      "id": "ElFs5JXGxb-g"
    },
    {
      "cell_type": "code",
      "source": [
        "query_text = \"fox\"\n",
        "query_embedding = model.encode([query_text])\n",
        "print(query_embedding)"
      ],
      "metadata": {
        "colab": {
          "base_uri": "https://localhost:8080/"
        },
        "id": "uBrP7RKoZhMS",
        "outputId": "c22e22b3-9304-4638-e8a3-dbd14974e4b7"
      },
      "id": "uBrP7RKoZhMS",
      "execution_count": null,
      "outputs": [
        {
          "output_type": "stream",
          "name": "stdout",
          "text": [
            "[[ 1.10053448e-02 -2.71984432e-02 -4.23476994e-02  2.68690772e-02\n",
            "   1.24752568e-02 -8.15262552e-03  4.80136722e-02 -2.42797434e-02\n",
            "  -2.33290507e-03 -5.91702238e-02 -2.49941424e-02  1.63972601e-02\n",
            "   2.21027294e-03  3.52101140e-02 -6.22175336e-02 -2.45897863e-02\n",
            "  -4.41655591e-02 -9.53475311e-02  7.82251637e-03 -5.37793562e-02\n",
            "  -1.33924574e-01 -2.80652903e-02  3.92268151e-02  2.02562846e-02\n",
            "   1.93843842e-02 -1.97538938e-02 -1.83801502e-02  1.11274617e-02\n",
            "   4.36563939e-02 -1.61914945e-01  3.24179232e-02  7.76520669e-02\n",
            "   1.56489275e-02  1.42848510e-02 -1.09123990e-01 -3.61411311e-02\n",
            "   4.34143357e-02 -3.68130766e-02 -2.02566609e-02  6.56031817e-02\n",
            "  -1.88652258e-02 -4.23035473e-02 -1.20622693e-02  4.05694209e-02\n",
            "  -6.23182766e-02 -3.29615772e-02 -4.26615179e-02 -1.31064188e-02\n",
            "   6.30795732e-02  5.93835749e-02 -3.97166461e-02 -1.18213529e-02\n",
            "  -5.47252446e-02  6.31510541e-02  6.42526001e-02  8.26242659e-03\n",
            "  -4.80821263e-03 -1.55517664e-02 -1.95879806e-02  2.20050365e-02\n",
            "   3.07974946e-02 -1.79953203e-02 -4.25518192e-02  6.29551038e-02\n",
            "   8.49922840e-03  3.49609256e-02 -4.49111722e-02 -3.66553590e-02\n",
            "  -8.10272843e-02 -1.03558168e-01 -3.92606407e-02  9.39691812e-03\n",
            "   1.37800761e-02  1.70312654e-02  1.23634469e-02 -2.71780547e-02\n",
            "   9.79682729e-02 -6.98755831e-02  8.30131173e-02 -1.48197087e-02\n",
            "  -6.24836236e-03 -2.87990086e-02 -7.69673511e-02  5.10552749e-02\n",
            "   6.91387430e-02  7.45992362e-03 -1.10824034e-02  3.87545191e-02\n",
            "  -3.14874128e-02  8.97219330e-02 -9.31192040e-02  5.08826412e-02\n",
            "   5.60214929e-02  6.75605685e-02 -3.63875479e-02  9.01269466e-02\n",
            "   1.85281411e-02 -5.90841323e-02 -7.64506906e-02  2.14856192e-01\n",
            "   1.78560428e-02 -6.78715557e-02  2.63528060e-02  9.21569392e-03\n",
            "  -1.26329288e-02 -6.03084974e-02 -1.65312793e-02 -4.85731335e-03\n",
            "   3.52150686e-02  2.12401710e-02  8.30323994e-03  2.89441831e-02\n",
            "  -1.11482620e-01  6.00061528e-02  4.29430157e-02 -1.43834669e-02\n",
            "   5.63653372e-02 -2.17259233e-03  3.35308760e-02 -8.44045728e-02\n",
            "   6.90234732e-03  1.16026066e-01 -7.21069053e-02 -2.61796005e-02\n",
            "   2.07992707e-04 -4.18895409e-02 -2.08261479e-02 -4.11848552e-33\n",
            "  -1.72220953e-02  1.72077882e-04 -4.91929464e-02 -9.66282859e-02\n",
            "  -2.25638933e-02  2.59740986e-02  1.25072282e-02  1.61226150e-02\n",
            "  -4.79761958e-02  4.57674079e-03 -4.15804833e-02  7.52565414e-02\n",
            "  -7.47784823e-02 -5.49203251e-03  7.32932314e-02 -4.87237722e-02\n",
            "   3.93674895e-02  3.62202041e-02 -5.90153635e-02  2.06241217e-02\n",
            "   6.96314350e-02  1.43481866e-01 -2.23450735e-02 -2.31565312e-02\n",
            "  -1.37392078e-02 -9.01523829e-02 -6.00901432e-02 -3.02773286e-02\n",
            "  -1.86544415e-02  3.24894153e-02  1.75690781e-02 -8.19169916e-03\n",
            "  -1.82046313e-02  5.42673655e-02  2.27140952e-02 -1.06970437e-01\n",
            "   1.19079594e-02 -7.15626106e-02  6.15691533e-03  3.57638709e-02\n",
            "   3.00006177e-02  1.48840155e-02  7.73406914e-03  2.76976917e-02\n",
            "  -1.00886757e-02  1.81934536e-02  1.53784687e-02 -4.92383614e-02\n",
            "  -7.50616342e-02  4.62422408e-02 -4.46924791e-02  4.70087258e-03\n",
            "  -1.35607384e-02 -2.01311056e-02 -3.04325344e-03  3.70662510e-02\n",
            "   4.66352068e-02 -9.58611351e-03 -1.75151285e-02 -1.79206450e-02\n",
            "  -3.26054618e-02  5.99348992e-02  1.05668949e-02 -8.56626313e-03\n",
            "   4.70731705e-02 -2.35674549e-02  8.67860615e-02  3.96401482e-03\n",
            "  -1.32212033e-02  3.01491246e-02 -2.48642303e-02  4.68864925e-02\n",
            "   3.76809277e-02 -7.53762722e-02 -1.55667905e-02 -2.44762693e-02\n",
            "  -3.81622091e-02  4.69641462e-02  6.56078383e-03 -4.94998097e-02\n",
            "  -7.72099849e-03  3.59586403e-02  2.04471927e-02  6.43167347e-02\n",
            "  -4.35390742e-03  6.33318201e-02 -9.94631927e-03  2.16248725e-02\n",
            "   4.02296856e-02 -2.83635091e-02 -6.22985475e-02 -5.70794847e-03\n",
            "   8.69124904e-02 -3.68039347e-02  4.61339531e-03  3.33713773e-33\n",
            "  -3.48907709e-02 -4.94195111e-02  1.08086038e-03  4.54546399e-02\n",
            "   1.62296053e-02  3.42068216e-03  5.67102470e-02  2.60509122e-02\n",
            "  -2.95955106e-03 -4.20715893e-03 -2.30173189e-02 -3.27035077e-02\n",
            "   8.05432256e-03 -2.20425837e-02  2.18606293e-02 -4.78037074e-02\n",
            "   5.44309169e-02 -2.05031317e-03  2.99992748e-02 -4.73191477e-02\n",
            "  -6.15264587e-02  1.40550984e-02 -1.21636547e-01  6.22966699e-02\n",
            "   5.44853397e-02 -9.15755611e-03  1.09418765e-01 -5.31432331e-02\n",
            "  -1.11887611e-01 -5.58308512e-02 -3.50011550e-02 -6.38493374e-02\n",
            "   1.81458201e-02  1.98202748e-02  5.39881662e-02  1.20491020e-01\n",
            "   1.03103079e-01 -1.21941781e-02 -5.72766066e-02 -4.68879268e-02\n",
            "   7.94142634e-02  9.66214947e-03 -2.94478908e-02  1.19412504e-01\n",
            "  -3.14154737e-02  8.02875217e-03 -7.88102895e-02  7.57800043e-02\n",
            "  -9.59059596e-03  1.00666329e-01 -5.76769188e-02  4.29624207e-02\n",
            "   1.31343780e-02 -2.95519456e-02 -6.94109276e-02 -2.51097716e-02\n",
            "  -1.04092076e-04 -1.76087972e-02  6.00931942e-02 -4.68069600e-04\n",
            "   5.99126844e-03  5.17476257e-03 -6.91639781e-02  1.48823233e-02\n",
            "  -7.76870735e-03 -6.75786193e-03 -7.44804293e-02  3.16741243e-02\n",
            "   1.56041514e-02 -7.52428500e-03  9.52212214e-02  5.26169688e-02\n",
            "  -2.44209431e-02  2.51258034e-02 -1.92245550e-03  5.58502451e-02\n",
            "  -1.36524229e-03  3.87692079e-02  3.37608047e-02  9.19944718e-02\n",
            "   6.35854378e-02 -2.50298176e-02 -1.87954772e-02  9.23714936e-02\n",
            "   3.35359536e-02  5.03003448e-02 -9.52116493e-03  1.96503848e-02\n",
            "   8.96546245e-03 -7.47171193e-02  7.18598068e-02  1.53016746e-02\n",
            "  -3.29413638e-02  1.82836372e-02  2.94093993e-02 -1.18757475e-08\n",
            "  -7.30491579e-02  1.90043934e-02 -8.09994936e-02  2.82321740e-02\n",
            "   7.78821483e-02  4.95163631e-03 -3.48400734e-02 -5.93877882e-02\n",
            "   6.89683631e-02  3.13769281e-02 -1.09400479e-02  2.14270246e-03\n",
            "   1.79425552e-02  2.54990961e-02 -1.27362795e-02 -3.81966978e-02\n",
            "  -3.31887081e-02  5.07162232e-03  3.91889736e-02  1.23721063e-01\n",
            "  -2.26736832e-02 -6.57694712e-02 -4.00374047e-02  3.49432416e-02\n",
            "  -1.11249452e-02 -7.63294324e-02 -3.98869179e-02  5.78329675e-02\n",
            "   6.80921301e-02  4.49693911e-02 -4.41074036e-02  8.19590464e-02\n",
            "  -9.45783257e-02 -2.42692046e-02 -4.99240262e-03 -1.46761937e-02\n",
            "   7.04704877e-03  1.92677062e-02  2.93003358e-02  5.91289811e-02\n",
            "   9.09139886e-02  1.58677716e-02  8.48411694e-02 -6.20934553e-02\n",
            "  -5.87637350e-02 -3.15406695e-02 -3.00036352e-02 -1.27108037e-01\n",
            "   1.18712455e-01 -1.14126079e-01  2.14133672e-02  1.91677008e-02\n",
            "   3.68348546e-02  9.17699262e-02  2.32504308e-02 -6.86267670e-03\n",
            "   1.07198013e-02 -5.48111312e-02 -6.18314482e-02  1.51855890e-02\n",
            "   7.19395131e-02  4.21618344e-03  9.07921121e-02  2.71734595e-02]]\n"
          ]
        }
      ]
    },
    {
      "cell_type": "markdown",
      "source": [
        "# Setup CKKS Homomorphic Encryption"
      ],
      "metadata": {
        "id": "rtApa641xn5h"
      },
      "id": "rtApa641xn5h"
    },
    {
      "cell_type": "code",
      "source": [
        "context = ts.context(\n",
        "            ts.SCHEME_TYPE.CKKS,\n",
        "            poly_modulus_degree = 8192,\n",
        "            coeff_mod_bit_sizes = [60, 40, 40, 60]\n",
        "          )\n",
        "\n",
        "context.generate_galois_keys()\n",
        "context.global_scale = 2**40"
      ],
      "metadata": {
        "id": "q7St2ZVgZ2zO"
      },
      "id": "q7St2ZVgZ2zO",
      "execution_count": null,
      "outputs": []
    },
    {
      "cell_type": "code",
      "source": [
        "secret_context = context.serialize(save_secret_key = True)"
      ],
      "metadata": {
        "id": "77UHXklNZ4qt"
      },
      "id": "77UHXklNZ4qt",
      "execution_count": null,
      "outputs": []
    },
    {
      "cell_type": "code",
      "source": [
        "context.make_context_public() #drop the secret_key from the context\n",
        "public_context = context.serialize()"
      ],
      "metadata": {
        "id": "3y1WH4LtZ61G"
      },
      "id": "3y1WH4LtZ61G",
      "execution_count": null,
      "outputs": []
    },
    {
      "cell_type": "code",
      "source": [
        "context = ts.context_from(secret_context)"
      ],
      "metadata": {
        "id": "hlryKQ2sZ_Hi"
      },
      "id": "hlryKQ2sZ_Hi",
      "execution_count": null,
      "outputs": []
    },
    {
      "cell_type": "markdown",
      "source": [
        "# Setup Vector Database"
      ],
      "metadata": {
        "id": "klTI5UPCIJrQ"
      },
      "id": "klTI5UPCIJrQ"
    },
    {
      "cell_type": "code",
      "source": [
        "class VectorStore:\n",
        "    def __init__(self):\n",
        "        self.vector_data = {}  # A dictionary to store vectors\n",
        "        self.vector_index = {}  # An indexing structure for retrieval\n",
        "\n",
        "    def add_vector(self, vector_id, vector):\n",
        "        \"\"\"\n",
        "        Add a vector to the store.\n",
        "\n",
        "        Args:\n",
        "            vector_id (str or int): A unique identifier for the vector.\n",
        "            vector (numpy.ndarray): The vector data to be stored.\n",
        "        \"\"\"\n",
        "        self.vector_data[vector_id] = vector\n",
        "        self._update_index(vector_id, vector)\n",
        "\n",
        "    def get_vector(self, vector_id):\n",
        "        \"\"\"\n",
        "        Retrieve a vector from the store.\n",
        "\n",
        "        Args:\n",
        "            vector_id (str or int): The identifier of the vector to retrieve.\n",
        "\n",
        "        Returns:\n",
        "            numpy.ndarray: The vector data if found, or None if not found.\n",
        "        \"\"\"\n",
        "        return self.vector_data.get(vector_id)\n",
        "\n",
        "    def _update_index(self, vector_id, vector):\n",
        "        \"\"\"\n",
        "        Update the index with the new vector.\n",
        "\n",
        "        Args:\n",
        "            vector_id (str or int): The identifier of the vector.\n",
        "            vector (numpy.ndarray): The vector data.\n",
        "        \"\"\"\n",
        "        # In this simple example, we use brute-force cosine similarity for indexing\n",
        "        for existing_id, existing_vector in self.vector_data.items():\n",
        "            similarity = np.dot(vector, existing_vector) / (np.linalg.norm(vector) * np.linalg.norm(existing_vector))\n",
        "            if existing_id not in self.vector_index:\n",
        "                self.vector_index[existing_id] = {}\n",
        "            self.vector_index[existing_id][vector_id] = similarity\n",
        "\n",
        "    def find_similar_vectors(self, query_vector, num_results=5):\n",
        "        \"\"\"\n",
        "        Find similar vectors to the query vector using brute-force search.\n",
        "\n",
        "        Args:\n",
        "            query_vector (numpy.ndarray): The query vector for similarity search.\n",
        "            num_results (int): The number of similar vectors to return.\n",
        "\n",
        "        Returns:\n",
        "            list: A list of (vector_id, similarity_score) tuples for the most similar vectors.\n",
        "        \"\"\"\n",
        "        results = []\n",
        "        for vector_id, vector in self.vector_data.items():\n",
        "            similarity = np.dot(query_vector, vector) / (np.linalg.norm(query_vector) * np.linalg.norm(vector))\n",
        "            results.append((vector_id, similarity))\n",
        "\n",
        "        # Sort by similarity in descending order\n",
        "        results.sort(key=lambda x: x[1], reverse=True)\n",
        "\n",
        "        # Return the top N results\n",
        "        return results[:num_results]"
      ],
      "metadata": {
        "id": "8F2Hn1TXIMbv"
      },
      "id": "8F2Hn1TXIMbv",
      "execution_count": null,
      "outputs": []
    },
    {
      "cell_type": "code",
      "source": [
        "vector_store = VectorStore()"
      ],
      "metadata": {
        "id": "0ayVp4XcIaYT"
      },
      "id": "0ayVp4XcIaYT",
      "execution_count": null,
      "outputs": []
    },
    {
      "cell_type": "markdown",
      "source": [
        "# Run Encrypted Search Calculations"
      ],
      "metadata": {
        "id": "LsIAh2CRx0Z-"
      },
      "id": "LsIAh2CRx0Z-"
    },
    {
      "cell_type": "markdown",
      "source": [
        "Encrypt the query embedding as an encrypted vector"
      ],
      "metadata": {
        "id": "cfeqZH9Cf-Kb"
      },
      "id": "cfeqZH9Cf-Kb"
    },
    {
      "cell_type": "code",
      "source": [
        "enc_queryvec = ts.ckks_vector(context, query_embedding[0].tolist())"
      ],
      "metadata": {
        "id": "UCZNAupkaD-b"
      },
      "id": "UCZNAupkaD-b",
      "execution_count": null,
      "outputs": []
    },
    {
      "cell_type": "markdown",
      "source": [
        "Measure Cosine Similarity"
      ],
      "metadata": {
        "id": "bVvlLunBMKRJ"
      },
      "id": "bVvlLunBMKRJ"
    },
    {
      "cell_type": "code",
      "source": [
        "cosine_similarity_ranking = []\n",
        "for i in range(len(sentences)):\n",
        "    enc_sentence = ts.ckks_vector(context, embeddings[i].tolist())\n",
        "    dot_product = enc_queryvec.dot(enc_sentence)\n",
        "    cosine_similarity = dot_product.decrypt()[0]\n",
        "    cosine_similarity_ranking.append({sentences[i]: abs(cosine_similarity)})"
      ],
      "metadata": {
        "id": "XsmYN2HZv_Qh"
      },
      "id": "XsmYN2HZv_Qh",
      "execution_count": null,
      "outputs": []
    },
    {
      "cell_type": "markdown",
      "source": [
        "# Present Results"
      ],
      "metadata": {
        "id": "EFDabr6UN4Nu"
      },
      "id": "EFDabr6UN4Nu"
    },
    {
      "cell_type": "code",
      "source": [
        "search_results = sorted(cosine_similarity_ranking, key=lambda x: list(x.values())[0], reverse=True)\n",
        "for item in search_results:\n",
        "    print(item)\n",
        "    print()\n"
      ],
      "metadata": {
        "colab": {
          "base_uri": "https://localhost:8080/"
        },
        "id": "ZX9uGA2QN57W",
        "outputId": "a11e9a0d-d817-49fd-ffa5-4bc1c7df3a6a"
      },
      "id": "ZX9uGA2QN57W",
      "execution_count": null,
      "outputs": [
        {
          "output_type": "stream",
          "name": "stdout",
          "text": [
            "{'The quick brown fox jumps over the lazy dog.': 0.48099632818018995}\n",
            "\n",
            "{'I watched the sunset over the ocean.': 0.09014756000127495}\n",
            "\n",
            "{'The athlete trained rigorously for the upcoming marathon.': 0.0781264779389985}\n",
            "\n",
            "{'Artificial intelligence is transforming industries.': 0.07767405389268811}\n",
            "\n",
            "{'He dreamed of traveling to distant galaxies.': 0.05060842452338736}\n",
            "\n",
            "{'The library was quiet and smelled like old books.': 0.02383919876453875}\n",
            "\n",
            "{'The chef prepared a delicious meal for the guests.': 0.022408268994282547}\n",
            "\n",
            "{'Climate change poses a significant threat to global biodiversity.': 0.01684344552838132}\n",
            "\n",
            "{'Innovation drives progress in the tech world.': 0.00642538038049721}\n",
            "\n",
            "{'Music has the power to evoke deep emotional responses.': 0.003653404599791276}\n",
            "\n"
          ]
        }
      ]
    }
  ],
  "metadata": {
    "kernelspec": {
      "display_name": "Python 3",
      "language": "python",
      "name": "python3"
    },
    "language_info": {
      "codemirror_mode": {
        "name": "ipython",
        "version": 3
      },
      "file_extension": ".py",
      "mimetype": "text/x-python",
      "name": "python",
      "nbconvert_exporter": "python",
      "pygments_lexer": "ipython3",
      "version": "3.8.5"
    },
    "colab": {
      "provenance": [],
      "include_colab_link": true
    }
  },
  "nbformat": 4,
  "nbformat_minor": 5
}